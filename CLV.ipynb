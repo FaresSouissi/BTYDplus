{
  "nbformat": 4,
  "nbformat_minor": 0,
  "metadata": {
    "colab": {
      "provenance": [],
      "authorship_tag": "ABX9TyNr8TmXuT+D7uVUmjnn4hnY",
      "include_colab_link": true
    },
    "kernelspec": {
      "name": "python3",
      "display_name": "Python 3"
    },
    "language_info": {
      "name": "python"
    }
  },
  "cells": [
    {
      "cell_type": "markdown",
      "metadata": {
        "id": "view-in-github",
        "colab_type": "text"
      },
      "source": [
        "<a href=\"https://colab.research.google.com/github/FaresSouissi/BTYDplus/blob/master/CLV.ipynb\" target=\"_parent\"><img src=\"https://colab.research.google.com/assets/colab-badge.svg\" alt=\"Open In Colab\"/></a>"
      ]
    },
    {
      "cell_type": "code",
      "execution_count": null,
      "metadata": {
        "id": "YIhIULDTcgG3"
      },
      "outputs": [],
      "source": [
        "import pandas as pd"
      ]
    },
    {
      "cell_type": "code",
      "source": [
        "pip install btyd"
      ],
      "metadata": {
        "colab": {
          "base_uri": "https://localhost:8080/"
        },
        "id": "c-UyKdiodEmx",
        "outputId": "4dddc797-20ad-4a36-c022-af56dea03f1a"
      },
      "execution_count": null,
      "outputs": [
        {
          "output_type": "stream",
          "name": "stdout",
          "text": [
            "Looking in indexes: https://pypi.org/simple, https://us-python.pkg.dev/colab-wheels/public/simple/\n",
            "Collecting btyd\n",
            "  Downloading btyd-0.1b3-py3-none-any.whl (605 kB)\n",
            "\u001b[2K     \u001b[90m━━━━━━━━━━━━━━━━━━━━━━━━━━━━━━━━━━━━━━\u001b[0m \u001b[32m605.4/605.4 KB\u001b[0m \u001b[31m18.0 MB/s\u001b[0m eta \u001b[36m0:00:00\u001b[0m\n",
            "\u001b[?25hRequirement already satisfied: numpy<2.0.0,>=1.20.0 in /usr/local/lib/python3.9/dist-packages (from btyd) (1.22.4)\n",
            "Collecting pymc<5.0.0,>=4.0.0\n",
            "  Downloading pymc-4.4.0-py3-none-any.whl (590 kB)\n",
            "\u001b[2K     \u001b[90m━━━━━━━━━━━━━━━━━━━━━━━━━━━━━━━━━━━━━━\u001b[0m \u001b[32m590.2/590.2 KB\u001b[0m \u001b[31m34.7 MB/s\u001b[0m eta \u001b[36m0:00:00\u001b[0m\n",
            "\u001b[?25hCollecting autograd==1.4\n",
            "  Downloading autograd-1.4-py3-none-any.whl (48 kB)\n",
            "\u001b[2K     \u001b[90m━━━━━━━━━━━━━━━━━━━━━━━━━━━━━━━━━━━━━━━━\u001b[0m \u001b[32m48.8/48.8 KB\u001b[0m \u001b[31m6.4 MB/s\u001b[0m eta \u001b[36m0:00:00\u001b[0m\n",
            "\u001b[?25hRequirement already satisfied: future>=0.15.2 in /usr/local/lib/python3.9/dist-packages (from autograd==1.4->btyd) (0.18.3)\n",
            "Requirement already satisfied: cachetools>=4.2.1 in /usr/local/lib/python3.9/dist-packages (from pymc<5.0.0,>=4.0.0->btyd) (5.3.0)\n",
            "Collecting aeppl==0.0.38\n",
            "  Downloading aeppl-0.0.38-py3-none-any.whl (52 kB)\n",
            "\u001b[2K     \u001b[90m━━━━━━━━━━━━━━━━━━━━━━━━━━━━━━━━━━━━━━━━\u001b[0m \u001b[32m52.1/52.1 KB\u001b[0m \u001b[31m6.7 MB/s\u001b[0m eta \u001b[36m0:00:00\u001b[0m\n",
            "\u001b[?25hRequirement already satisfied: typing-extensions>=3.7.4 in /usr/local/lib/python3.9/dist-packages (from pymc<5.0.0,>=4.0.0->btyd) (4.5.0)\n",
            "Requirement already satisfied: cloudpickle in /usr/local/lib/python3.9/dist-packages (from pymc<5.0.0,>=4.0.0->btyd) (2.2.1)\n",
            "Requirement already satisfied: fastprogress>=0.2.0 in /usr/local/lib/python3.9/dist-packages (from pymc<5.0.0,>=4.0.0->btyd) (1.0.3)\n",
            "Collecting aesara==2.8.7\n",
            "  Downloading aesara-2.8.7-py3-none-any.whl (1.4 MB)\n",
            "\u001b[2K     \u001b[90m━━━━━━━━━━━━━━━━━━━━━━━━━━━━━━━━━━━━━━━━\u001b[0m \u001b[32m1.4/1.4 MB\u001b[0m \u001b[31m63.8 MB/s\u001b[0m eta \u001b[36m0:00:00\u001b[0m\n",
            "\u001b[?25hRequirement already satisfied: pandas>=0.24.0 in /usr/local/lib/python3.9/dist-packages (from pymc<5.0.0,>=4.0.0->btyd) (1.4.4)\n",
            "Requirement already satisfied: arviz>=0.13.0 in /usr/local/lib/python3.9/dist-packages (from pymc<5.0.0,>=4.0.0->btyd) (0.15.1)\n",
            "Requirement already satisfied: scipy>=1.4.1 in /usr/local/lib/python3.9/dist-packages (from pymc<5.0.0,>=4.0.0->btyd) (1.10.1)\n",
            "Requirement already satisfied: setuptools>=48.0.0 in /usr/local/lib/python3.9/dist-packages (from aesara==2.8.7->pymc<5.0.0,>=4.0.0->btyd) (67.6.0)\n",
            "Requirement already satisfied: cons in /usr/local/lib/python3.9/dist-packages (from aesara==2.8.7->pymc<5.0.0,>=4.0.0->btyd) (0.4.5)\n",
            "Requirement already satisfied: logical-unification in /usr/local/lib/python3.9/dist-packages (from aesara==2.8.7->pymc<5.0.0,>=4.0.0->btyd) (0.4.5)\n",
            "Requirement already satisfied: etuples in /usr/local/lib/python3.9/dist-packages (from aesara==2.8.7->pymc<5.0.0,>=4.0.0->btyd) (0.3.8)\n",
            "Requirement already satisfied: miniKanren in /usr/local/lib/python3.9/dist-packages (from aesara==2.8.7->pymc<5.0.0,>=4.0.0->btyd) (1.0.3)\n",
            "Requirement already satisfied: filelock in /usr/local/lib/python3.9/dist-packages (from aesara==2.8.7->pymc<5.0.0,>=4.0.0->btyd) (3.10.2)\n",
            "Requirement already satisfied: packaging in /usr/local/lib/python3.9/dist-packages (from arviz>=0.13.0->pymc<5.0.0,>=4.0.0->btyd) (23.0)\n",
            "Requirement already satisfied: xarray-einstats>=0.3 in /usr/local/lib/python3.9/dist-packages (from arviz>=0.13.0->pymc<5.0.0,>=4.0.0->btyd) (0.5.1)\n",
            "Requirement already satisfied: xarray>=0.21.0 in /usr/local/lib/python3.9/dist-packages (from arviz>=0.13.0->pymc<5.0.0,>=4.0.0->btyd) (2022.12.0)\n",
            "Requirement already satisfied: h5netcdf>=1.0.2 in /usr/local/lib/python3.9/dist-packages (from arviz>=0.13.0->pymc<5.0.0,>=4.0.0->btyd) (1.1.0)\n",
            "Requirement already satisfied: matplotlib>=3.2 in /usr/local/lib/python3.9/dist-packages (from arviz>=0.13.0->pymc<5.0.0,>=4.0.0->btyd) (3.7.1)\n",
            "Requirement already satisfied: pytz>=2020.1 in /usr/local/lib/python3.9/dist-packages (from pandas>=0.24.0->pymc<5.0.0,>=4.0.0->btyd) (2022.7.1)\n",
            "Requirement already satisfied: python-dateutil>=2.8.1 in /usr/local/lib/python3.9/dist-packages (from pandas>=0.24.0->pymc<5.0.0,>=4.0.0->btyd) (2.8.2)\n",
            "Requirement already satisfied: h5py in /usr/local/lib/python3.9/dist-packages (from h5netcdf>=1.0.2->arviz>=0.13.0->pymc<5.0.0,>=4.0.0->btyd) (3.8.0)\n",
            "Requirement already satisfied: pyparsing>=2.3.1 in /usr/local/lib/python3.9/dist-packages (from matplotlib>=3.2->arviz>=0.13.0->pymc<5.0.0,>=4.0.0->btyd) (3.0.9)\n",
            "Requirement already satisfied: importlib-resources>=3.2.0 in /usr/local/lib/python3.9/dist-packages (from matplotlib>=3.2->arviz>=0.13.0->pymc<5.0.0,>=4.0.0->btyd) (5.12.0)\n",
            "Requirement already satisfied: cycler>=0.10 in /usr/local/lib/python3.9/dist-packages (from matplotlib>=3.2->arviz>=0.13.0->pymc<5.0.0,>=4.0.0->btyd) (0.11.0)\n",
            "Requirement already satisfied: pillow>=6.2.0 in /usr/local/lib/python3.9/dist-packages (from matplotlib>=3.2->arviz>=0.13.0->pymc<5.0.0,>=4.0.0->btyd) (8.4.0)\n",
            "Requirement already satisfied: kiwisolver>=1.0.1 in /usr/local/lib/python3.9/dist-packages (from matplotlib>=3.2->arviz>=0.13.0->pymc<5.0.0,>=4.0.0->btyd) (1.4.4)\n",
            "Requirement already satisfied: contourpy>=1.0.1 in /usr/local/lib/python3.9/dist-packages (from matplotlib>=3.2->arviz>=0.13.0->pymc<5.0.0,>=4.0.0->btyd) (1.0.7)\n",
            "Requirement already satisfied: fonttools>=4.22.0 in /usr/local/lib/python3.9/dist-packages (from matplotlib>=3.2->arviz>=0.13.0->pymc<5.0.0,>=4.0.0->btyd) (4.39.2)\n",
            "Requirement already satisfied: six>=1.5 in /usr/local/lib/python3.9/dist-packages (from python-dateutil>=2.8.1->pandas>=0.24.0->pymc<5.0.0,>=4.0.0->btyd) (1.16.0)\n",
            "Requirement already satisfied: toolz in /usr/local/lib/python3.9/dist-packages (from logical-unification->aesara==2.8.7->pymc<5.0.0,>=4.0.0->btyd) (0.12.0)\n",
            "Requirement already satisfied: multipledispatch in /usr/local/lib/python3.9/dist-packages (from logical-unification->aesara==2.8.7->pymc<5.0.0,>=4.0.0->btyd) (0.6.0)\n",
            "Requirement already satisfied: zipp>=3.1.0 in /usr/local/lib/python3.9/dist-packages (from importlib-resources>=3.2.0->matplotlib>=3.2->arviz>=0.13.0->pymc<5.0.0,>=4.0.0->btyd) (3.15.0)\n",
            "Installing collected packages: autograd, aesara, aeppl, pymc, btyd\n",
            "  Attempting uninstall: autograd\n",
            "    Found existing installation: autograd 1.5\n",
            "    Uninstalling autograd-1.5:\n",
            "      Successfully uninstalled autograd-1.5\n",
            "  Attempting uninstall: pymc\n",
            "    Found existing installation: pymc 5.1.2\n",
            "    Uninstalling pymc-5.1.2:\n",
            "      Successfully uninstalled pymc-5.1.2\n",
            "Successfully installed aeppl-0.0.38 aesara-2.8.7 autograd-1.4 btyd-0.1b3 pymc-4.4.0\n"
          ]
        }
      ]
    },
    {
      "cell_type": "code",
      "source": [
        "df = pd.read_csv(\"mydata.csv\")\n",
        "\n",
        "df.head()"
      ],
      "metadata": {
        "colab": {
          "base_uri": "https://localhost:8080/",
          "height": 206
        },
        "id": "dgcFPczzclnW",
        "outputId": "dcfa7cc9-b4a5-4da5-a648-f05f4bb55c53"
      },
      "execution_count": null,
      "outputs": [
        {
          "output_type": "execute_result",
          "data": {
            "text/plain": [
              "  InvoiceNo  volume   value  customer_id         Country        date\n",
              "0    536365      40  139.12      17850.0  United Kingdom  2010-01-12\n",
              "1    536366      12   22.20      17850.0  United Kingdom  2010-01-12\n",
              "2    536367      83  278.73      13047.0  United Kingdom  2010-01-12\n",
              "3    536368      15   70.05      13047.0  United Kingdom  2010-01-12\n",
              "4    536369       3   17.85      13047.0  United Kingdom  2010-01-12"
            ],
            "text/html": [
              "\n",
              "  <div id=\"df-4a9398f4-560a-4b25-bab2-b9ba20ea18cf\">\n",
              "    <div class=\"colab-df-container\">\n",
              "      <div>\n",
              "<style scoped>\n",
              "    .dataframe tbody tr th:only-of-type {\n",
              "        vertical-align: middle;\n",
              "    }\n",
              "\n",
              "    .dataframe tbody tr th {\n",
              "        vertical-align: top;\n",
              "    }\n",
              "\n",
              "    .dataframe thead th {\n",
              "        text-align: right;\n",
              "    }\n",
              "</style>\n",
              "<table border=\"1\" class=\"dataframe\">\n",
              "  <thead>\n",
              "    <tr style=\"text-align: right;\">\n",
              "      <th></th>\n",
              "      <th>InvoiceNo</th>\n",
              "      <th>volume</th>\n",
              "      <th>value</th>\n",
              "      <th>customer_id</th>\n",
              "      <th>Country</th>\n",
              "      <th>date</th>\n",
              "    </tr>\n",
              "  </thead>\n",
              "  <tbody>\n",
              "    <tr>\n",
              "      <th>0</th>\n",
              "      <td>536365</td>\n",
              "      <td>40</td>\n",
              "      <td>139.12</td>\n",
              "      <td>17850.0</td>\n",
              "      <td>United Kingdom</td>\n",
              "      <td>2010-01-12</td>\n",
              "    </tr>\n",
              "    <tr>\n",
              "      <th>1</th>\n",
              "      <td>536366</td>\n",
              "      <td>12</td>\n",
              "      <td>22.20</td>\n",
              "      <td>17850.0</td>\n",
              "      <td>United Kingdom</td>\n",
              "      <td>2010-01-12</td>\n",
              "    </tr>\n",
              "    <tr>\n",
              "      <th>2</th>\n",
              "      <td>536367</td>\n",
              "      <td>83</td>\n",
              "      <td>278.73</td>\n",
              "      <td>13047.0</td>\n",
              "      <td>United Kingdom</td>\n",
              "      <td>2010-01-12</td>\n",
              "    </tr>\n",
              "    <tr>\n",
              "      <th>3</th>\n",
              "      <td>536368</td>\n",
              "      <td>15</td>\n",
              "      <td>70.05</td>\n",
              "      <td>13047.0</td>\n",
              "      <td>United Kingdom</td>\n",
              "      <td>2010-01-12</td>\n",
              "    </tr>\n",
              "    <tr>\n",
              "      <th>4</th>\n",
              "      <td>536369</td>\n",
              "      <td>3</td>\n",
              "      <td>17.85</td>\n",
              "      <td>13047.0</td>\n",
              "      <td>United Kingdom</td>\n",
              "      <td>2010-01-12</td>\n",
              "    </tr>\n",
              "  </tbody>\n",
              "</table>\n",
              "</div>\n",
              "      <button class=\"colab-df-convert\" onclick=\"convertToInteractive('df-4a9398f4-560a-4b25-bab2-b9ba20ea18cf')\"\n",
              "              title=\"Convert this dataframe to an interactive table.\"\n",
              "              style=\"display:none;\">\n",
              "        \n",
              "  <svg xmlns=\"http://www.w3.org/2000/svg\" height=\"24px\"viewBox=\"0 0 24 24\"\n",
              "       width=\"24px\">\n",
              "    <path d=\"M0 0h24v24H0V0z\" fill=\"none\"/>\n",
              "    <path d=\"M18.56 5.44l.94 2.06.94-2.06 2.06-.94-2.06-.94-.94-2.06-.94 2.06-2.06.94zm-11 1L8.5 8.5l.94-2.06 2.06-.94-2.06-.94L8.5 2.5l-.94 2.06-2.06.94zm10 10l.94 2.06.94-2.06 2.06-.94-2.06-.94-.94-2.06-.94 2.06-2.06.94z\"/><path d=\"M17.41 7.96l-1.37-1.37c-.4-.4-.92-.59-1.43-.59-.52 0-1.04.2-1.43.59L10.3 9.45l-7.72 7.72c-.78.78-.78 2.05 0 2.83L4 21.41c.39.39.9.59 1.41.59.51 0 1.02-.2 1.41-.59l7.78-7.78 2.81-2.81c.8-.78.8-2.07 0-2.86zM5.41 20L4 18.59l7.72-7.72 1.47 1.35L5.41 20z\"/>\n",
              "  </svg>\n",
              "      </button>\n",
              "      \n",
              "  <style>\n",
              "    .colab-df-container {\n",
              "      display:flex;\n",
              "      flex-wrap:wrap;\n",
              "      gap: 12px;\n",
              "    }\n",
              "\n",
              "    .colab-df-convert {\n",
              "      background-color: #E8F0FE;\n",
              "      border: none;\n",
              "      border-radius: 50%;\n",
              "      cursor: pointer;\n",
              "      display: none;\n",
              "      fill: #1967D2;\n",
              "      height: 32px;\n",
              "      padding: 0 0 0 0;\n",
              "      width: 32px;\n",
              "    }\n",
              "\n",
              "    .colab-df-convert:hover {\n",
              "      background-color: #E2EBFA;\n",
              "      box-shadow: 0px 1px 2px rgba(60, 64, 67, 0.3), 0px 1px 3px 1px rgba(60, 64, 67, 0.15);\n",
              "      fill: #174EA6;\n",
              "    }\n",
              "\n",
              "    [theme=dark] .colab-df-convert {\n",
              "      background-color: #3B4455;\n",
              "      fill: #D2E3FC;\n",
              "    }\n",
              "\n",
              "    [theme=dark] .colab-df-convert:hover {\n",
              "      background-color: #434B5C;\n",
              "      box-shadow: 0px 1px 3px 1px rgba(0, 0, 0, 0.15);\n",
              "      filter: drop-shadow(0px 1px 2px rgba(0, 0, 0, 0.3));\n",
              "      fill: #FFFFFF;\n",
              "    }\n",
              "  </style>\n",
              "\n",
              "      <script>\n",
              "        const buttonEl =\n",
              "          document.querySelector('#df-4a9398f4-560a-4b25-bab2-b9ba20ea18cf button.colab-df-convert');\n",
              "        buttonEl.style.display =\n",
              "          google.colab.kernel.accessAllowed ? 'block' : 'none';\n",
              "\n",
              "        async function convertToInteractive(key) {\n",
              "          const element = document.querySelector('#df-4a9398f4-560a-4b25-bab2-b9ba20ea18cf');\n",
              "          const dataTable =\n",
              "            await google.colab.kernel.invokeFunction('convertToInteractive',\n",
              "                                                     [key], {});\n",
              "          if (!dataTable) return;\n",
              "\n",
              "          const docLinkHtml = 'Like what you see? Visit the ' +\n",
              "            '<a target=\"_blank\" href=https://colab.research.google.com/notebooks/data_table.ipynb>data table notebook</a>'\n",
              "            + ' to learn more about interactive tables.';\n",
              "          element.innerHTML = '';\n",
              "          dataTable['output_type'] = 'display_data';\n",
              "          await google.colab.output.renderOutput(dataTable, element);\n",
              "          const docLink = document.createElement('div');\n",
              "          docLink.innerHTML = docLinkHtml;\n",
              "          element.appendChild(docLink);\n",
              "        }\n",
              "      </script>\n",
              "    </div>\n",
              "  </div>\n",
              "  "
            ]
          },
          "metadata": {},
          "execution_count": 11
        }
      ]
    },
    {
      "cell_type": "code",
      "source": [
        "from btyd.utils import summary_data_from_transaction_data\n",
        "\n",
        "df_parsed = summary_data_from_transaction_data(\n",
        "    df, \n",
        "    customer_id_col=\"customer_id\", \n",
        "    datetime_col=\"date\",\n",
        "    monetary_value_col=\"value\",\n",
        ")\n",
        "df_parsed = df_parsed[df_parsed[\"frequency\"] != 0]"
      ],
      "metadata": {
        "id": "qVNsY27-cm6K"
      },
      "execution_count": null,
      "outputs": []
    },
    {
      "cell_type": "code",
      "source": [
        "df_parsed"
      ],
      "metadata": {
        "colab": {
          "base_uri": "https://localhost:8080/",
          "height": 455
        },
        "id": "bR4Uyt8Fdgy6",
        "outputId": "526067e4-5123-4e23-e2a8-cf8277f37faa"
      },
      "execution_count": null,
      "outputs": [
        {
          "output_type": "execute_result",
          "data": {
            "text/plain": [
              "             frequency  recency      T  monetary_value\n",
              "customer_id                                           \n",
              "12347.0            4.0    421.0  516.0      457.125000\n",
              "12352.0            1.0     67.0  341.0      311.730000\n",
              "12358.0            1.0    117.0  120.0      484.860000\n",
              "12359.0            3.0    292.0  301.0     1165.243333\n",
              "12362.0            4.0    213.0  243.0      414.462500\n",
              "...                ...      ...    ...             ...\n",
              "18263.0            1.0    184.0  340.0      503.800000\n",
              "18272.0            3.0    156.0  159.0      369.246667\n",
              "18273.0            1.0     64.0  215.0       51.000000\n",
              "18282.0            2.0    208.0  301.0       49.380000\n",
              "18283.0            3.0    155.0  215.0      143.583333\n",
              "\n",
              "[1663 rows x 4 columns]"
            ],
            "text/html": [
              "\n",
              "  <div id=\"df-6e2403da-ba6d-4209-b60b-369b48b3b68e\">\n",
              "    <div class=\"colab-df-container\">\n",
              "      <div>\n",
              "<style scoped>\n",
              "    .dataframe tbody tr th:only-of-type {\n",
              "        vertical-align: middle;\n",
              "    }\n",
              "\n",
              "    .dataframe tbody tr th {\n",
              "        vertical-align: top;\n",
              "    }\n",
              "\n",
              "    .dataframe thead th {\n",
              "        text-align: right;\n",
              "    }\n",
              "</style>\n",
              "<table border=\"1\" class=\"dataframe\">\n",
              "  <thead>\n",
              "    <tr style=\"text-align: right;\">\n",
              "      <th></th>\n",
              "      <th>frequency</th>\n",
              "      <th>recency</th>\n",
              "      <th>T</th>\n",
              "      <th>monetary_value</th>\n",
              "    </tr>\n",
              "    <tr>\n",
              "      <th>customer_id</th>\n",
              "      <th></th>\n",
              "      <th></th>\n",
              "      <th></th>\n",
              "      <th></th>\n",
              "    </tr>\n",
              "  </thead>\n",
              "  <tbody>\n",
              "    <tr>\n",
              "      <th>12347.0</th>\n",
              "      <td>4.0</td>\n",
              "      <td>421.0</td>\n",
              "      <td>516.0</td>\n",
              "      <td>457.125000</td>\n",
              "    </tr>\n",
              "    <tr>\n",
              "      <th>12352.0</th>\n",
              "      <td>1.0</td>\n",
              "      <td>67.0</td>\n",
              "      <td>341.0</td>\n",
              "      <td>311.730000</td>\n",
              "    </tr>\n",
              "    <tr>\n",
              "      <th>12358.0</th>\n",
              "      <td>1.0</td>\n",
              "      <td>117.0</td>\n",
              "      <td>120.0</td>\n",
              "      <td>484.860000</td>\n",
              "    </tr>\n",
              "    <tr>\n",
              "      <th>12359.0</th>\n",
              "      <td>3.0</td>\n",
              "      <td>292.0</td>\n",
              "      <td>301.0</td>\n",
              "      <td>1165.243333</td>\n",
              "    </tr>\n",
              "    <tr>\n",
              "      <th>12362.0</th>\n",
              "      <td>4.0</td>\n",
              "      <td>213.0</td>\n",
              "      <td>243.0</td>\n",
              "      <td>414.462500</td>\n",
              "    </tr>\n",
              "    <tr>\n",
              "      <th>...</th>\n",
              "      <td>...</td>\n",
              "      <td>...</td>\n",
              "      <td>...</td>\n",
              "      <td>...</td>\n",
              "    </tr>\n",
              "    <tr>\n",
              "      <th>18263.0</th>\n",
              "      <td>1.0</td>\n",
              "      <td>184.0</td>\n",
              "      <td>340.0</td>\n",
              "      <td>503.800000</td>\n",
              "    </tr>\n",
              "    <tr>\n",
              "      <th>18272.0</th>\n",
              "      <td>3.0</td>\n",
              "      <td>156.0</td>\n",
              "      <td>159.0</td>\n",
              "      <td>369.246667</td>\n",
              "    </tr>\n",
              "    <tr>\n",
              "      <th>18273.0</th>\n",
              "      <td>1.0</td>\n",
              "      <td>64.0</td>\n",
              "      <td>215.0</td>\n",
              "      <td>51.000000</td>\n",
              "    </tr>\n",
              "    <tr>\n",
              "      <th>18282.0</th>\n",
              "      <td>2.0</td>\n",
              "      <td>208.0</td>\n",
              "      <td>301.0</td>\n",
              "      <td>49.380000</td>\n",
              "    </tr>\n",
              "    <tr>\n",
              "      <th>18283.0</th>\n",
              "      <td>3.0</td>\n",
              "      <td>155.0</td>\n",
              "      <td>215.0</td>\n",
              "      <td>143.583333</td>\n",
              "    </tr>\n",
              "  </tbody>\n",
              "</table>\n",
              "<p>1663 rows × 4 columns</p>\n",
              "</div>\n",
              "      <button class=\"colab-df-convert\" onclick=\"convertToInteractive('df-6e2403da-ba6d-4209-b60b-369b48b3b68e')\"\n",
              "              title=\"Convert this dataframe to an interactive table.\"\n",
              "              style=\"display:none;\">\n",
              "        \n",
              "  <svg xmlns=\"http://www.w3.org/2000/svg\" height=\"24px\"viewBox=\"0 0 24 24\"\n",
              "       width=\"24px\">\n",
              "    <path d=\"M0 0h24v24H0V0z\" fill=\"none\"/>\n",
              "    <path d=\"M18.56 5.44l.94 2.06.94-2.06 2.06-.94-2.06-.94-.94-2.06-.94 2.06-2.06.94zm-11 1L8.5 8.5l.94-2.06 2.06-.94-2.06-.94L8.5 2.5l-.94 2.06-2.06.94zm10 10l.94 2.06.94-2.06 2.06-.94-2.06-.94-.94-2.06-.94 2.06-2.06.94z\"/><path d=\"M17.41 7.96l-1.37-1.37c-.4-.4-.92-.59-1.43-.59-.52 0-1.04.2-1.43.59L10.3 9.45l-7.72 7.72c-.78.78-.78 2.05 0 2.83L4 21.41c.39.39.9.59 1.41.59.51 0 1.02-.2 1.41-.59l7.78-7.78 2.81-2.81c.8-.78.8-2.07 0-2.86zM5.41 20L4 18.59l7.72-7.72 1.47 1.35L5.41 20z\"/>\n",
              "  </svg>\n",
              "      </button>\n",
              "      \n",
              "  <style>\n",
              "    .colab-df-container {\n",
              "      display:flex;\n",
              "      flex-wrap:wrap;\n",
              "      gap: 12px;\n",
              "    }\n",
              "\n",
              "    .colab-df-convert {\n",
              "      background-color: #E8F0FE;\n",
              "      border: none;\n",
              "      border-radius: 50%;\n",
              "      cursor: pointer;\n",
              "      display: none;\n",
              "      fill: #1967D2;\n",
              "      height: 32px;\n",
              "      padding: 0 0 0 0;\n",
              "      width: 32px;\n",
              "    }\n",
              "\n",
              "    .colab-df-convert:hover {\n",
              "      background-color: #E2EBFA;\n",
              "      box-shadow: 0px 1px 2px rgba(60, 64, 67, 0.3), 0px 1px 3px 1px rgba(60, 64, 67, 0.15);\n",
              "      fill: #174EA6;\n",
              "    }\n",
              "\n",
              "    [theme=dark] .colab-df-convert {\n",
              "      background-color: #3B4455;\n",
              "      fill: #D2E3FC;\n",
              "    }\n",
              "\n",
              "    [theme=dark] .colab-df-convert:hover {\n",
              "      background-color: #434B5C;\n",
              "      box-shadow: 0px 1px 3px 1px rgba(0, 0, 0, 0.15);\n",
              "      filter: drop-shadow(0px 1px 2px rgba(0, 0, 0, 0.3));\n",
              "      fill: #FFFFFF;\n",
              "    }\n",
              "  </style>\n",
              "\n",
              "      <script>\n",
              "        const buttonEl =\n",
              "          document.querySelector('#df-6e2403da-ba6d-4209-b60b-369b48b3b68e button.colab-df-convert');\n",
              "        buttonEl.style.display =\n",
              "          google.colab.kernel.accessAllowed ? 'block' : 'none';\n",
              "\n",
              "        async function convertToInteractive(key) {\n",
              "          const element = document.querySelector('#df-6e2403da-ba6d-4209-b60b-369b48b3b68e');\n",
              "          const dataTable =\n",
              "            await google.colab.kernel.invokeFunction('convertToInteractive',\n",
              "                                                     [key], {});\n",
              "          if (!dataTable) return;\n",
              "\n",
              "          const docLinkHtml = 'Like what you see? Visit the ' +\n",
              "            '<a target=\"_blank\" href=https://colab.research.google.com/notebooks/data_table.ipynb>data table notebook</a>'\n",
              "            + ' to learn more about interactive tables.';\n",
              "          element.innerHTML = '';\n",
              "          dataTable['output_type'] = 'display_data';\n",
              "          await google.colab.output.renderOutput(dataTable, element);\n",
              "          const docLink = document.createElement('div');\n",
              "          docLink.innerHTML = docLinkHtml;\n",
              "          element.appendChild(docLink);\n",
              "        }\n",
              "      </script>\n",
              "    </div>\n",
              "  </div>\n",
              "  "
            ]
          },
          "metadata": {},
          "execution_count": 13
        }
      ]
    },
    {
      "cell_type": "code",
      "source": [
        "from lifetimes import BetaGeoFitter\n",
        "\n",
        "model = BetaGeoFitter()\n",
        "model.fit(\n",
        "    frequency=df_parsed[\"frequency\"], \n",
        "    recency=df_parsed[\"recency\"], \n",
        "    T=df_parsed[\"T\"]\n",
        ")\n",
        "print(model.summary)"
      ],
      "metadata": {
        "colab": {
          "base_uri": "https://localhost:8080/"
        },
        "id": "19bjPZ3kdqQF",
        "outputId": "7dfbdd93-abb5-4686-df68-2954805c9f70"
      },
      "execution_count": null,
      "outputs": [
        {
          "output_type": "stream",
          "name": "stdout",
          "text": [
            "               coef   se(coef)  lower 95% bound  upper 95% bound\n",
            "r      3.377490e+00   0.217809         2.950585         3.804395\n",
            "alpha  3.547851e+02  23.921298       307.899362       401.670852\n",
            "a      9.096401e-08   0.000025        -0.000049         0.000049\n",
            "b      7.887156e-07   0.000215        -0.000421         0.000422\n"
          ]
        }
      ]
    },
    {
      "cell_type": "code",
      "source": [
        "from btyd import plotting\n",
        "\n",
        "plotting.plot_dropout_rate_heterogeneity(model)\n",
        "plotting.plot_transaction_rate_heterogeneity(model)"
      ],
      "metadata": {
        "colab": {
          "base_uri": "https://localhost:8080/",
          "height": 588
        },
        "id": "fgngaobSdr_o",
        "outputId": "5b777b1b-cf56-4f19-e1cf-ea9be21f501c"
      },
      "execution_count": null,
      "outputs": [
        {
          "output_type": "execute_result",
          "data": {
            "text/plain": [
              "<Axes: title={'center': 'mean: 0.010, var: 0.000'}, xlabel='Transaction Rate', ylabel='Density'>"
            ]
          },
          "metadata": {},
          "execution_count": 15
        },
        {
          "output_type": "display_data",
          "data": {
            "text/plain": [
              "<Figure size 432x288 with 1 Axes>"
            ],
            "image/png": "[encoded data removed]"
          },
          "metadata": {
            "needs_background": "light"
          }
        },
        {
          "output_type": "display_data",
          "data": {
            "text/plain": [
              "<Figure size 432x288 with 1 Axes>"
            ],
            "image/png": "[encoded data removed]"
          },
          "metadata": {
            "needs_background": "light"
          }
        }
      ]
    },
    {
      "cell_type": "code",
      "source": [
        "plotting.plot_frequency_recency_matrix(model, T=7)"
      ],
      "metadata": {
        "colab": {
          "base_uri": "https://localhost:8080/",
          "height": 345
        },
        "id": "ul_-3XAbd4YJ",
        "outputId": "0a5ad0ce-45e6-4ff4-93cf-8d42ae932cd1"
      },
      "execution_count": null,
      "outputs": [
        {
          "output_type": "execute_result",
          "data": {
            "text/plain": [
              "<Axes: title={'center': 'Expected Number of Future Purchases for 7 Units of Time,\\nby Frequency and Recency of a Customer'}, xlabel=\"Customer's Historical Frequency\", ylabel=\"Customer's Recency\">"
            ]
          },
          "metadata": {},
          "execution_count": 16
        },
        {
          "output_type": "display_data",
          "data": {
            "text/plain": [
              "<Figure size 432x288 with 2 Axes>"
            ],
            "image/png": "[encoded data removed]"
          },
          "metadata": {
            "needs_background": "light"
          }
        }
      ]
    },
    {
      "cell_type": "code",
      "source": [
        "plotting.plot_probability_alive_matrix(model)"
      ],
      "metadata": {
        "colab": {
          "base_uri": "https://localhost:8080/",
          "height": 345
        },
        "id": "BTwwZzfWd9-G",
        "outputId": "3a432570-a5a9-4451-f11f-c085a8a38691"
      },
      "execution_count": null,
      "outputs": [
        {
          "output_type": "execute_result",
          "data": {
            "text/plain": [
              "<Axes: title={'center': 'Probability Customer is Alive,\\nby Frequency and Recency of a Customer'}, xlabel=\"Customer's Historical Frequency\", ylabel=\"Customer's Recency\">"
            ]
          },
          "metadata": {},
          "execution_count": 17
        },
        {
          "output_type": "display_data",
          "data": {
            "text/plain": [
              "<Figure size 432x288 with 2 Axes>"
            ],
            "image/png": "[encoded data removed]"
          },
          "metadata": {
            "needs_background": "light"
          }
        }
      ]
    },
    {
      "cell_type": "code",
      "source": [
        "model.predict(\n",
        "    t=100,\n",
        "    frequency=3.5,\n",
        "    recency=450,\n",
        "    T=500,\n",
        ")"
      ],
      "metadata": {
        "colab": {
          "base_uri": "https://localhost:8080/"
        },
        "id": "2HEsKC7MefC_",
        "outputId": "48c321a8-c521-4d75-d8ba-663917908269"
      },
      "execution_count": null,
      "outputs": [
        {
          "output_type": "execute_result",
          "data": {
            "text/plain": [
              "0.8045869559990909"
            ]
          },
          "metadata": {},
          "execution_count": 18
        }
      ]
    },
    {
      "cell_type": "code",
      "source": [
        "df_parsed[[\"monetary_value\", \"frequency\"]].corr()"
      ],
      "metadata": {
        "colab": {
          "base_uri": "https://localhost:8080/",
          "height": 112
        },
        "id": "KyR8v_nnenET",
        "outputId": "56e91d7c-d0b5-438b-d169-17c06a06d03d"
      },
      "execution_count": null,
      "outputs": [
        {
          "output_type": "execute_result",
          "data": {
            "text/plain": [
              "                monetary_value  frequency\n",
              "monetary_value        1.000000   0.130355\n",
              "frequency             0.130355   1.000000"
            ],
            "text/html": [
              "\n",
              "  <div id=\"df-eb9a16d8-7db7-4b32-a4a4-f60cbd3783af\">\n",
              "    <div class=\"colab-df-container\">\n",
              "      <div>\n",
              "<style scoped>\n",
              "    .dataframe tbody tr th:only-of-type {\n",
              "        vertical-align: middle;\n",
              "    }\n",
              "\n",
              "    .dataframe tbody tr th {\n",
              "        vertical-align: top;\n",
              "    }\n",
              "\n",
              "    .dataframe thead th {\n",
              "        text-align: right;\n",
              "    }\n",
              "</style>\n",
              "<table border=\"1\" class=\"dataframe\">\n",
              "  <thead>\n",
              "    <tr style=\"text-align: right;\">\n",
              "      <th></th>\n",
              "      <th>monetary_value</th>\n",
              "      <th>frequency</th>\n",
              "    </tr>\n",
              "  </thead>\n",
              "  <tbody>\n",
              "    <tr>\n",
              "      <th>monetary_value</th>\n",
              "      <td>1.000000</td>\n",
              "      <td>0.130355</td>\n",
              "    </tr>\n",
              "    <tr>\n",
              "      <th>frequency</th>\n",
              "      <td>0.130355</td>\n",
              "      <td>1.000000</td>\n",
              "    </tr>\n",
              "  </tbody>\n",
              "</table>\n",
              "</div>\n",
              "      <button class=\"colab-df-convert\" onclick=\"convertToInteractive('df-eb9a16d8-7db7-4b32-a4a4-f60cbd3783af')\"\n",
              "              title=\"Convert this dataframe to an interactive table.\"\n",
              "              style=\"display:none;\">\n",
              "        \n",
              "  <svg xmlns=\"http://www.w3.org/2000/svg\" height=\"24px\"viewBox=\"0 0 24 24\"\n",
              "       width=\"24px\">\n",
              "    <path d=\"M0 0h24v24H0V0z\" fill=\"none\"/>\n",
              "    <path d=\"M18.56 5.44l.94 2.06.94-2.06 2.06-.94-2.06-.94-.94-2.06-.94 2.06-2.06.94zm-11 1L8.5 8.5l.94-2.06 2.06-.94-2.06-.94L8.5 2.5l-.94 2.06-2.06.94zm10 10l.94 2.06.94-2.06 2.06-.94-2.06-.94-.94-2.06-.94 2.06-2.06.94z\"/><path d=\"M17.41 7.96l-1.37-1.37c-.4-.4-.92-.59-1.43-.59-.52 0-1.04.2-1.43.59L10.3 9.45l-7.72 7.72c-.78.78-.78 2.05 0 2.83L4 21.41c.39.39.9.59 1.41.59.51 0 1.02-.2 1.41-.59l7.78-7.78 2.81-2.81c.8-.78.8-2.07 0-2.86zM5.41 20L4 18.59l7.72-7.72 1.47 1.35L5.41 20z\"/>\n",
              "  </svg>\n",
              "      </button>\n",
              "      \n",
              "  <style>\n",
              "    .colab-df-container {\n",
              "      display:flex;\n",
              "      flex-wrap:wrap;\n",
              "      gap: 12px;\n",
              "    }\n",
              "\n",
              "    .colab-df-convert {\n",
              "      background-color: #E8F0FE;\n",
              "      border: none;\n",
              "      border-radius: 50%;\n",
              "      cursor: pointer;\n",
              "      display: none;\n",
              "      fill: #1967D2;\n",
              "      height: 32px;\n",
              "      padding: 0 0 0 0;\n",
              "      width: 32px;\n",
              "    }\n",
              "\n",
              "    .colab-df-convert:hover {\n",
              "      background-color: #E2EBFA;\n",
              "      box-shadow: 0px 1px 2px rgba(60, 64, 67, 0.3), 0px 1px 3px 1px rgba(60, 64, 67, 0.15);\n",
              "      fill: #174EA6;\n",
              "    }\n",
              "\n",
              "    [theme=dark] .colab-df-convert {\n",
              "      background-color: #3B4455;\n",
              "      fill: #D2E3FC;\n",
              "    }\n",
              "\n",
              "    [theme=dark] .colab-df-convert:hover {\n",
              "      background-color: #434B5C;\n",
              "      box-shadow: 0px 1px 3px 1px rgba(0, 0, 0, 0.15);\n",
              "      filter: drop-shadow(0px 1px 2px rgba(0, 0, 0, 0.3));\n",
              "      fill: #FFFFFF;\n",
              "    }\n",
              "  </style>\n",
              "\n",
              "      <script>\n",
              "        const buttonEl =\n",
              "          document.querySelector('#df-eb9a16d8-7db7-4b32-a4a4-f60cbd3783af button.colab-df-convert');\n",
              "        buttonEl.style.display =\n",
              "          google.colab.kernel.accessAllowed ? 'block' : 'none';\n",
              "\n",
              "        async function convertToInteractive(key) {\n",
              "          const element = document.querySelector('#df-eb9a16d8-7db7-4b32-a4a4-f60cbd3783af');\n",
              "          const dataTable =\n",
              "            await google.colab.kernel.invokeFunction('convertToInteractive',\n",
              "                                                     [key], {});\n",
              "          if (!dataTable) return;\n",
              "\n",
              "          const docLinkHtml = 'Like what you see? Visit the ' +\n",
              "            '<a target=\"_blank\" href=https://colab.research.google.com/notebooks/data_table.ipynb>data table notebook</a>'\n",
              "            + ' to learn more about interactive tables.';\n",
              "          element.innerHTML = '';\n",
              "          dataTable['output_type'] = 'display_data';\n",
              "          await google.colab.output.renderOutput(dataTable, element);\n",
              "          const docLink = document.createElement('div');\n",
              "          docLink.innerHTML = docLinkHtml;\n",
              "          element.appendChild(docLink);\n",
              "        }\n",
              "      </script>\n",
              "    </div>\n",
              "  </div>\n",
              "  "
            ]
          },
          "metadata": {},
          "execution_count": 19
        }
      ]
    },
    {
      "cell_type": "code",
      "source": [
        "df_parsed.dtypes"
      ],
      "metadata": {
        "colab": {
          "base_uri": "https://localhost:8080/"
        },
        "id": "VGu_5-ljfZtU",
        "outputId": "86a52354-4551-4356-a99d-c426ca627a89"
      },
      "execution_count": null,
      "outputs": [
        {
          "output_type": "execute_result",
          "data": {
            "text/plain": [
              "frequency         float64\n",
              "recency           float64\n",
              "T                 float64\n",
              "monetary_value    float64\n",
              "dtype: object"
            ]
          },
          "metadata": {},
          "execution_count": 24
        }
      ]
    },
    {
      "cell_type": "code",
      "source": [
        "\n",
        "df_parsed = df_parsed[df_parsed['monetary_value'] > 0]"
      ],
      "metadata": {
        "id": "E3kKI24-fjLc"
      },
      "execution_count": null,
      "outputs": []
    },
    {
      "cell_type": "code",
      "source": [
        "from btyd import GammaGammaFitter\n",
        "\n",
        "\n",
        "gg_model = GammaGammaFitter()\n",
        "gg_model.fit(\n",
        "    frequency=df_parsed[\"frequency\"],\n",
        "    monetary_value=df_parsed[\"monetary_value\"]\n",
        ")"
      ],
      "metadata": {
        "colab": {
          "base_uri": "https://localhost:8080/"
        },
        "id": "RUhL3eKoerrM",
        "outputId": "2b9d4e65-59dc-4cac-f424-86159ec09a74"
      },
      "execution_count": null,
      "outputs": [
        {
          "output_type": "execute_result",
          "data": {
            "text/plain": [
              "<btyd.GammaGammaFitter: fitted with 1532 subjects, p: 1.3126846013400655, q: 3.504573027978058, v: 748.1592682837288>"
            ]
          },
          "metadata": {},
          "execution_count": 29
        }
      ]
    },
    {
      "cell_type": "code",
      "source": [
        "gg_model.conditional_expected_average_profit(\n",
        "    frequency=df_parsed[\"frequency\"],\n",
        "    monetary_value=df_parsed[\"monetary_value\"]\n",
        ")"
      ],
      "metadata": {
        "colab": {
          "base_uri": "https://localhost:8080/"
        },
        "id": "4Kd1LwmOfu8Z",
        "outputId": "805806e9-1355-4e00-ace4-ad3a7ca5d4f7"
      },
      "execution_count": null,
      "outputs": [
        {
          "output_type": "execute_result",
          "data": {
            "text/plain": [
              "customer_id\n",
              "12347.0    436.132188\n",
              "12352.0    364.476401\n",
              "12358.0    424.012619\n",
              "12359.0    864.692033\n",
              "12362.0    407.247516\n",
              "              ...    \n",
              "18263.0    430.525737\n",
              "18272.0    378.139299\n",
              "18273.0    274.816155\n",
              "18282.0    216.715478\n",
              "18283.0    240.202651\n",
              "Length: 1532, dtype: float64"
            ]
          },
          "metadata": {},
          "execution_count": 30
        }
      ]
    },
    {
      "cell_type": "code",
      "source": [
        "gg_model.customer_lifetime_value(\n",
        "    transaction_prediction_model=model,\n",
        "    frequency=df_parsed[\"frequency\"],\n",
        "    recency=df_parsed[\"recency\"],\n",
        "    T=df_parsed[\"T\"],\n",
        "    monetary_value=df_parsed[\"monetary_value\"],\n",
        "    time=1000,\n",
        "    discount_rate=0.01,\n",
        ")"
      ],
      "metadata": {
        "colab": {
          "base_uri": "https://localhost:8080/"
        },
        "id": "kQTYG3jIf1wP",
        "outputId": "0f14b315-bb5a-47c4-dfee-985ad029ddcb"
      },
      "execution_count": null,
      "outputs": [
        {
          "output_type": "execute_result",
          "data": {
            "text/plain": [
              "0      NaN\n",
              "1      NaN\n",
              "2      NaN\n",
              "3      NaN\n",
              "4      NaN\n",
              "        ..\n",
              "1527   NaN\n",
              "1528   NaN\n",
              "1529   NaN\n",
              "1530   NaN\n",
              "1531   NaN\n",
              "Name: clv, Length: 1532, dtype: float64"
            ]
          },
          "metadata": {},
          "execution_count": 36
        }
      ]
    },
    {
      "cell_type": "code",
      "source": [
        "df_parsed"
      ],
      "metadata": {
        "id": "JXuYUnYfhBjP",
        "colab": {
          "base_uri": "https://localhost:8080/",
          "height": 166
        },
        "outputId": "e0ae0457-9e7d-4e9f-9123-a8df5dff1fa0"
      },
      "execution_count": 1,
      "outputs": [
        {
          "output_type": "error",
          "ename": "NameError",
          "evalue": "ignored",
          "traceback": [
            "\u001b[0;31m---------------------------------------------------------------------------\u001b[0m",
            "\u001b[0;31mNameError\u001b[0m                                 Traceback (most recent call last)",
            "\u001b[0;32m<ipython-input-1-64dc80c7ec7f>\u001b[0m in \u001b[0;36m<module>\u001b[0;34m\u001b[0m\n\u001b[0;32m----> 1\u001b[0;31m \u001b[0mdf_parsed\u001b[0m\u001b[0;34m\u001b[0m\u001b[0;34m\u001b[0m\u001b[0m\n\u001b[0m",
            "\u001b[0;31mNameError\u001b[0m: name 'df_parsed' is not defined"
          ]
        }
      ]
    }
  ]
}